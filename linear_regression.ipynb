{
 "cells": [
  {
   "cell_type": "code",
   "execution_count": 1,
   "metadata": {
    "colab": {
     "base_uri": "https://localhost:8080/",
     "height": 364
    },
    "id": "8RNJ8th0aALR",
    "outputId": "1c48ea76-92c6-4a08-91ef-44e89c83cd4f"
   },
   "outputs": [],
   "source": [
    "# Importing libraries\n",
    "import numpy as np \n",
    "import pandas as pd\n",
    "from sklearn.model_selection import train_test_split\n",
    "import matplotlib.pyplot as plt"
   ]
  },
  {
   "cell_type": "code",
   "execution_count": 3,
   "metadata": {
    "colab": {
     "base_uri": "https://localhost:8080/",
     "height": 364
    },
    "id": "8RNJ8th0aALR",
    "outputId": "1c48ea76-92c6-4a08-91ef-44e89c83cd4f"
   },
   "outputs": [],
   "source": [
    "# Multiple Linear Regression\n",
    "class LinearRegression() :\n",
    "    def __init__( self, learning_rate, iterations ) :\n",
    "        self.learning_rate = learning_rate\n",
    "        self.iterations = iterations\n",
    "        \n",
    "    # Function for model training\n",
    "    def fit( self, X, Y ) :\n",
    "        # no_of_training_examples, no_of_features\n",
    "        self.n, self.d = X.shape        \n",
    "        # weight initialization\n",
    "        self.W = np.zeros(self.d)\n",
    "        self.b = 0        \n",
    "        # Training observations and their true target values\n",
    "        self.X = X\n",
    "        self.Y = Y\n",
    "        # gradient descent learning\n",
    "        for i in range( self.iterations ) :\n",
    "            self.update_weights()\n",
    "        return self\n",
    "    \n",
    "    # update weights in gradient descent\n",
    "    def update_weights( self ) :\n",
    "        Y_pred = self.predict( self.X )\n",
    "        #calculate gradients\n",
    "        dW = ( self.X.T ).dot( Y_pred - self.Y) / self.n\n",
    "        db =  np.sum( Y_pred - self.Y ) / self.n\n",
    "        # update weights\n",
    "        self.W = self.W - self.learning_rate * dW\n",
    "        self.b = self.b - self.learning_rate * db\n",
    "        return self\n",
    "\n",
    "    # Hypothesis function h( x )\n",
    "    def predict( self, X ) :\n",
    "        return X.dot( self.W ) + self.b  "
   ]
  },
  {
   "cell_type": "code",
   "execution_count": 4,
   "metadata": {
    "colab": {
     "base_uri": "https://localhost:8080/",
     "height": 364
    },
    "id": "8RNJ8th0aALR",
    "outputId": "1c48ea76-92c6-4a08-91ef-44e89c83cd4f"
   },
   "outputs": [
    {
     "name": "stdout",
     "output_type": "stream",
     "text": [
      "Predicted values  [ 38722.09 125063.79  64232.14]\n",
      "Real values  [ 37731 122391  57081]\n",
      "Trained W  9811.56\n",
      "Trained b  24004.76\n"
     ]
    },
    {
     "data": {
      "image/png": "[encoded data removed]",
      "text/plain": [
       "<Figure size 432x288 with 1 Axes>"
      ]
     },
     "metadata": {
      "needs_background": "light"
     },
     "output_type": "display_data"
    }
   ],
   "source": [
    "# main function\n",
    "def main() :\n",
    "    # Importing dataset\n",
    "    df = pd.read_csv( \"salary_data.csv\" )\n",
    "    X = df.iloc[:,:-1].values\n",
    "    Y = df.iloc[:,1].values\n",
    "\n",
    "    # Splitting dataset into train and test set\n",
    "    X_train, X_test, Y_train, Y_test = train_test_split(X, Y,\n",
    "    test_size=1/3, random_state=0)\n",
    "\n",
    "    # Model training\n",
    "    model = LinearRegression( iterations = 1000, learning_rate = 0.01 )\n",
    "    model.fit( X_train, Y_train )\n",
    "\n",
    "    # Prediction on test set\n",
    "    Y_pred = model.predict( X_test )\n",
    "\n",
    "    print( \"Predicted values \", np.round( Y_pred[:3], 2 ) )\n",
    "    print( \"Real values \", Y_test[:3] )\n",
    "    print( \"Trained W \", round( model.W[0], 2 ) )\n",
    "    print( \"Trained b \", round( model.b, 2 ) )\n",
    "\n",
    "    # Visualization on test set\n",
    "    plt.scatter( X_test, Y_test, color = 'blue' )\n",
    "    plt.plot( X_test, Y_pred, color = 'red' )\n",
    "    plt.title( 'Salary vs Experience' )\n",
    "    plt.xlabel( 'Years of Experience' )\n",
    "    plt.ylabel( 'Salary' )\n",
    "    plt.show()\n",
    "\n",
    "if __name__ == \"__main__\" :\n",
    "    main()"
   ]
  },
  {
   "cell_type": "code",
   "execution_count": null,
   "metadata": {},
   "outputs": [],
   "source": []
  }
 ],
 "metadata": {
  "colab": {
   "collapsed_sections": [],
   "name": "linear_regression.ipynb",
   "provenance": []
  },
  "kernelspec": {
   "display_name": "Python 3 (ipykernel)",
   "language": "python",
   "name": "python3"
  },
  "language_info": {
   "codemirror_mode": {
    "name": "ipython",
    "version": 3
   },
   "file_extension": ".py",
   "mimetype": "text/x-python",
   "name": "python",
   "nbconvert_exporter": "python",
   "pygments_lexer": "ipython3",
   "version": "3.9.12"
  }
 },
 "nbformat": 4,
 "nbformat_minor": 1
}
